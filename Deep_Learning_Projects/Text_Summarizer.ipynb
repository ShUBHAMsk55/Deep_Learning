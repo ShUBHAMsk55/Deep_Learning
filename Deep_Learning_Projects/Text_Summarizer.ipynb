{
 "cells": [
  {
   "cell_type": "markdown",
   "metadata": {},
   "source": [
    "# Text Summarization With NLP"
   ]
  },
  {
   "cell_type": "markdown",
   "metadata": {},
   "source": [
    "### Importing Required Libraries"
   ]
  },
  {
   "cell_type": "code",
   "execution_count": 4,
   "metadata": {},
   "outputs": [
    {
     "name": "stderr",
     "output_type": "stream",
     "text": [
      "[nltk_data] Downloading package stopwords to\n",
      "[nltk_data]     C:\\Users\\shubh\\AppData\\Roaming\\nltk_data...\n",
      "[nltk_data]   Package stopwords is already up-to-date!\n"
     ]
    }
   ],
   "source": [
    "import bs4 as bs\n",
    "import urllib.request\n",
    "import re\n",
    "import nltk\n",
    "nltk.download('stopwords')\n",
    "import heapq"
   ]
  },
  {
   "cell_type": "markdown",
   "metadata": {},
   "source": [
    "## Summarising Function\n",
    "#### The function will do the data cleaning and provide histogram probability"
   ]
  },
  {
   "cell_type": "code",
   "execution_count": 12,
   "metadata": {},
   "outputs": [],
   "source": [
    "def summarize(url,num_of_sentences):\n",
    "    data = urllib.request.urlopen(url).read()\n",
    "    soup = bs.BeautifulSoup(data,'lxml')\n",
    "    text = ''\n",
    "    for paragraph in soup.find_all('p'):\n",
    "        text += paragraph.text\n",
    "    text = re.sub(r'\\[[0-9]*\\]',' ',text)\n",
    "    text = re.sub(r'\\s+',' ',text)\n",
    "    clean_text = text.lower()\n",
    "    clean_text = re.sub(r'\\W',' ',clean_text)\n",
    "    clean_text = re.sub(r'\\d',' ',clean_text)\n",
    "    clean_text = re.sub(r'\\s+',' ',clean_text)\n",
    "    \n",
    "    sentences = nltk.sent_tokenize(text)\n",
    "    stop_words = nltk.corpus.stopwords.words('english')\n",
    "    \n",
    "    word_counts = {}\n",
    "    \n",
    "    for word in nltk.word_tokenize(clean_text):\n",
    "        if word not in stop_words:\n",
    "            if word not in word_counts.keys():\n",
    "                word_counts[word] = 1\n",
    "            else:\n",
    "                word_counts[word] += 1\n",
    "    for key in word_counts.keys():\n",
    "        word_counts[key] = word_counts[key] / max(word_counts.values())\n",
    "        \n",
    "    word_score = {}\n",
    "    \n",
    "    for sentence in sentences:\n",
    "        for word in nltk.word_tokenize(sentence.lower()):\n",
    "            if word in word_counts.keys():\n",
    "                if len(sentence.split(' ')) < 25:\n",
    "                    if sentence not in word_score.keys():\n",
    "                        word_score[sentence] = word_counts[word]\n",
    "                    else:\n",
    "                        word_score[sentence] += word_counts[word]\n",
    "    best_sentences = heapq.nlargest(num_of_sentences,word_score,key=word_score.get)\n",
    "    \n",
    "    return best_sentences"
   ]
  },
  {
   "cell_type": "markdown",
   "metadata": {},
   "source": [
    "### Providing the url to summarize the text\n",
    "#### The url is of wikipedia consisting about 100-120 lines\n",
    "#### The data is then summarized to 10 lines"
   ]
  },
  {
   "cell_type": "code",
   "execution_count": 13,
   "metadata": {},
   "outputs": [],
   "source": [
    "summarized_text = summarize('https://en.wikipedia.org/wiki/Cristiano_Ronaldo',10)"
   ]
  },
  {
   "cell_type": "code",
   "execution_count": 14,
   "metadata": {},
   "outputs": [
    {
     "name": "stdout",
     "output_type": "stream",
     "text": [
      "During the tournament, he scored his first World Cup goal against Iran with a penalty kick in Portugal's second match of the group stage.\n",
      "In Portugal's second game on 20 June, Ronaldo scored the only goal in a 1–0 victory against Morocco, breaking Puskás' record.\n",
      "In April 2017, it was reported that Ronaldo was being investigated for a rape allegation by the Las Vegas Police Department originating in 2009.\n",
      "His first Champions League goals for the club followed with two free kicks in the first group match against Zürich.\n",
      "Notes Sporting Manchester United Real Madrid Juventus Portugal Individual Orders Notes Citations Biographies\n",
      "In 2015, Ronaldo's number 7 Real Madrid jersey was the second best-selling jersey worldwide, after Messi's number 10 Barcelona jersey.\n",
      "Within days, the two women withdrew their allegation and Scotland Yard later issued a statement declaring there was not enough evidence for a prosecution.\n",
      "On 2 May, Ronaldo scored another hat-trick as Real Madrid defeated Atlético Madrid 3–0 in the Champions League semi-final first leg.\n",
      "In June 2016, Ronaldo donated the entirety of his €600,000 Champions League bonus after Real Madrid won the 2015–16 UEFA Champions League.\n",
      "In March, Ronaldo agreed to be the ambassador for The Mangrove Care Forum in Indonesia, an organisation aiming to raise awareness of mangrove conservation.\n"
     ]
    }
   ],
   "source": [
    "for sentence in summarized_text:\n",
    "    print(sentence)"
   ]
  },
  {
   "cell_type": "code",
   "execution_count": null,
   "metadata": {},
   "outputs": [],
   "source": []
  }
 ],
 "metadata": {
  "kernelspec": {
   "display_name": "Python 3",
   "language": "python",
   "name": "python3"
  },
  "language_info": {
   "codemirror_mode": {
    "name": "ipython",
    "version": 3
   },
   "file_extension": ".py",
   "mimetype": "text/x-python",
   "name": "python",
   "nbconvert_exporter": "python",
   "pygments_lexer": "ipython3",
   "version": "3.6.6"
  }
 },
 "nbformat": 4,
 "nbformat_minor": 4
}
