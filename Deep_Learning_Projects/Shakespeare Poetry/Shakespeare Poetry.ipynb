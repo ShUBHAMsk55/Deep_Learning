{
 "cells": [
  {
   "cell_type": "markdown",
   "metadata": {},
   "source": [
    "## Getting Required Data Corpus"
   ]
  },
  {
   "cell_type": "code",
   "execution_count": 1,
   "metadata": {},
   "outputs": [],
   "source": [
    "shakespeare_corpus = open('dataset/shakespeare1.txt').read()"
   ]
  },
  {
   "cell_type": "code",
   "execution_count": 2,
   "metadata": {},
   "outputs": [],
   "source": [
    "shakespeare_corpus = shakespeare_corpus.lower().split('\\n')"
   ]
  },
  {
   "cell_type": "code",
   "execution_count": 12,
   "metadata": {},
   "outputs": [],
   "source": [
    "from tensorflow.keras.preprocessing.text import Tokenizer\n",
    "from tensorflow.keras.preprocessing.sequence import pad_sequences\n",
    "import re\n",
    "import warnings\n",
    "warnings.filterwarnings(\"ignore\")\n",
    "import numpy as np\n",
    "import tensorflow.keras.utils as ku \n",
    "import tensorflow as tf"
   ]
  },
  {
   "cell_type": "code",
   "execution_count": 4,
   "metadata": {},
   "outputs": [],
   "source": [
    "tokenizer = Tokenizer()"
   ]
  },
  {
   "cell_type": "code",
   "execution_count": 5,
   "metadata": {},
   "outputs": [],
   "source": [
    "tokenizer.fit_on_texts(shakespeare_corpus)\n",
    "word_index = tokenizer.word_index"
   ]
  },
  {
   "cell_type": "code",
   "execution_count": 6,
   "metadata": {},
   "outputs": [
    {
     "data": {
      "text/plain": [
       "2527"
      ]
     },
     "execution_count": 6,
     "metadata": {},
     "output_type": "execute_result"
    }
   ],
   "source": [
    "len(word_index)"
   ]
  },
  {
   "cell_type": "code",
   "execution_count": 7,
   "metadata": {},
   "outputs": [],
   "source": [
    "total_num_words = len(word_index) + 1"
   ]
  },
  {
   "cell_type": "code",
   "execution_count": 8,
   "metadata": {},
   "outputs": [],
   "source": [
    "input_sequences = []\n",
    "for line in shakespeare_corpus:\n",
    "    token_list = tokenizer.texts_to_sequences([line])[0]\n",
    "    for i in range(1, len(token_list)):\n",
    "        n_gram_sequence = token_list[:i+1]\n",
    "        input_sequences.append(n_gram_sequence)"
   ]
  },
  {
   "cell_type": "code",
   "execution_count": 9,
   "metadata": {},
   "outputs": [],
   "source": [
    "max_sequence_len = max([len(x) for x in input_sequences])\n",
    "\n",
    "input_sequences = np.array(pad_sequences(input_sequences, maxlen=max_sequence_len, padding='pre'))\n",
    "predictors, label = input_sequences[:,:-1],input_sequences[:,-1]\n",
    "label = ku.to_categorical(label, num_classes=total_num_words)"
   ]
  },
  {
   "cell_type": "code",
   "execution_count": 11,
   "metadata": {},
   "outputs": [],
   "source": [
    "from tensorflow.keras.layers import Embedding, CuDNNLSTM, Dense, Dropout, Bidirectional\n",
    "from tensorflow.keras.preprocessing.text import Tokenizer\n",
    "from tensorflow.keras.models import Sequential\n",
    "from tensorflow.keras.optimizers import Adam\n",
    "from tensorflow.keras import regularizers"
   ]
  },
  {
   "cell_type": "code",
   "execution_count": 13,
   "metadata": {},
   "outputs": [
    {
     "name": "stdout",
     "output_type": "stream",
     "text": [
      "WARNING:tensorflow:From G:\\Anaconda\\envs\\gputest\\lib\\site-packages\\tensorflow\\python\\ops\\resource_variable_ops.py:435: colocate_with (from tensorflow.python.framework.ops) is deprecated and will be removed in a future version.\n",
      "Instructions for updating:\n",
      "Colocations handled automatically by placer.\n",
      "WARNING:tensorflow:From G:\\Anaconda\\envs\\gputest\\lib\\site-packages\\tensorflow\\python\\keras\\layers\\core.py:143: calling dropout (from tensorflow.python.ops.nn_ops) with keep_prob is deprecated and will be removed in a future version.\n",
      "Instructions for updating:\n",
      "Please use `rate` instead of `keep_prob`. Rate should be set to `rate = 1 - keep_prob`.\n",
      "_________________________________________________________________\n",
      "Layer (type)                 Output Shape              Param #   \n",
      "=================================================================\n",
      "embedding (Embedding)        (None, 10, 100)           252800    \n",
      "_________________________________________________________________\n",
      "cu_dnnlstm (CuDNNLSTM)       (None, 10, 150)           151200    \n",
      "_________________________________________________________________\n",
      "dropout (Dropout)            (None, 10, 150)           0         \n",
      "_________________________________________________________________\n",
      "cu_dnnlstm_1 (CuDNNLSTM)     (None, 100)               100800    \n",
      "_________________________________________________________________\n",
      "dense (Dense)                (None, 1264)              127664    \n",
      "_________________________________________________________________\n",
      "dense_1 (Dense)              (None, 2528)              3197920   \n",
      "=================================================================\n",
      "Total params: 3,830,384\n",
      "Trainable params: 3,830,384\n",
      "Non-trainable params: 0\n",
      "_________________________________________________________________\n",
      "None\n"
     ]
    }
   ],
   "source": [
    "model = Sequential()\n",
    "model.add(Embedding(total_num_words, 100, input_length=max_sequence_len-1))\n",
    "model.add(CuDNNLSTM(150, return_sequences = True))\n",
    "model.add(Dropout(0.2))\n",
    "model.add(CuDNNLSTM(100))\n",
    "model.add(Dense(total_num_words/2, activation='relu', kernel_regularizer=regularizers.l2(0.01)))\n",
    "model.add(Dense(total_num_words, activation='softmax'))\n",
    "model.compile(loss='categorical_crossentropy', optimizer='adam', metrics=['accuracy'])\n",
    "print(model.summary())"
   ]
  },
  {
   "cell_type": "code",
   "execution_count": 14,
   "metadata": {},
   "outputs": [
    {
     "name": "stdout",
     "output_type": "stream",
     "text": [
      "WARNING:tensorflow:From G:\\Anaconda\\envs\\gputest\\lib\\site-packages\\tensorflow\\python\\ops\\math_ops.py:3066: to_int32 (from tensorflow.python.ops.math_ops) is deprecated and will be removed in a future version.\n",
      "Instructions for updating:\n",
      "Use tf.cast instead.\n",
      "Epoch 1/100\n",
      "10053/10053 [==============================] - 16s 2ms/sample - loss: 6.9589 - acc: 0.02034s \n",
      "Epoch 2/100\n",
      "10053/10053 [==============================] - 7s 686us/sample - loss: 6.4350 - acc: 0.0237\n",
      "Epoch 3/100\n",
      "10053/10053 [==============================] - 7s 695us/sample - loss: 6.3526 - acc: 0.0234s - loss: 6.3558 - acc: 0.02\n",
      "Epoch 4/100\n",
      "10053/10053 [==============================] - 7s 694us/sample - loss: 6.2922 - acc: 0.0246\n",
      "Epoch 5/100\n",
      "10053/10053 [==============================] - 7s 691us/sample - loss: 6.2357 - acc: 0.0273\n",
      "Epoch 6/100\n",
      "10053/10053 [==============================] - 7s 695us/sample - loss: 6.1526 - acc: 0.0318\n",
      "Epoch 7/100\n",
      "10053/10053 [==============================] - 7s 691us/sample - loss: 6.0684 - acc: 0.0385\n",
      "Epoch 8/100\n",
      "10053/10053 [==============================] - 7s 690us/sample - loss: 5.9843 - acc: 0.0421\n",
      "Epoch 9/100\n",
      "10053/10053 [==============================] - 7s 703us/sample - loss: 5.9202 - acc: 0.0400\n",
      "Epoch 10/100\n",
      "10053/10053 [==============================] - 7s 693us/sample - loss: 5.8624 - acc: 0.0458\n",
      "Epoch 11/100\n",
      "10053/10053 [==============================] - 7s 696us/sample - loss: 5.8049 - acc: 0.0459\n",
      "Epoch 12/100\n",
      "10053/10053 [==============================] - 7s 692us/sample - loss: 5.7504 - acc: 0.0477\n",
      "Epoch 13/100\n",
      "10053/10053 [==============================] - 7s 696us/sample - loss: 5.6892 - acc: 0.0525\n",
      "Epoch 14/100\n",
      "10053/10053 [==============================] - 7s 708us/sample - loss: 5.6297 - acc: 0.0542\n",
      "Epoch 15/100\n",
      "10053/10053 [==============================] - 7s 695us/sample - loss: 5.5648 - acc: 0.0548s - ETA: 1s - l\n",
      "Epoch 16/100\n",
      "10053/10053 [==============================] - 7s 699us/sample - loss: 5.4882 - acc: 0.0598\n",
      "Epoch 17/100\n",
      "10053/10053 [==============================] - 7s 696us/sample - loss: 5.4087 - acc: 0.0637\n",
      "Epoch 18/100\n",
      "10053/10053 [==============================] - 7s 697us/sample - loss: 5.3356 - acc: 0.0665\n",
      "Epoch 19/100\n",
      "10053/10053 [==============================] - 7s 698us/sample - loss: 5.2634 - acc: 0.0737\n",
      "Epoch 20/100\n",
      "10053/10053 [==============================] - 7s 700us/sample - loss: 5.1947 - acc: 0.0752s - loss: 5.191\n",
      "Epoch 21/100\n",
      "10053/10053 [==============================] - 7s 697us/sample - loss: 5.1288 - acc: 0.0824\n",
      "Epoch 22/100\n",
      "10053/10053 [==============================] - 7s 697us/sample - loss: 5.0582 - acc: 0.0871\n",
      "Epoch 23/100\n",
      "10053/10053 [==============================] - 7s 702us/sample - loss: 4.9853 - acc: 0.0896\n",
      "Epoch 24/100\n",
      "10053/10053 [==============================] - 7s 691us/sample - loss: 4.9222 - acc: 0.0936\n",
      "Epoch 25/100\n",
      "10053/10053 [==============================] - 7s 691us/sample - loss: 4.8481 - acc: 0.0996\n",
      "Epoch 26/100\n",
      "10053/10053 [==============================] - 7s 696us/sample - loss: 4.7793 - acc: 0.1056\n",
      "Epoch 27/100\n",
      "10053/10053 [==============================] - 7s 707us/sample - loss: 4.7047 - acc: 0.1099\n",
      "Epoch 28/100\n",
      "10053/10053 [==============================] - 7s 705us/sample - loss: 4.6363 - acc: 0.1151\n",
      "Epoch 29/100\n",
      "10053/10053 [==============================] - 7s 702us/sample - loss: 4.5639 - acc: 0.1199\n",
      "Epoch 30/100\n",
      "10053/10053 [==============================] - 7s 705us/sample - loss: 4.4885 - acc: 0.1252\n",
      "Epoch 31/100\n",
      "10053/10053 [==============================] - 7s 745us/sample - loss: 4.4190 - acc: 0.1300\n",
      "Epoch 32/100\n",
      "10053/10053 [==============================] - ETA: 0s - loss: 4.3546 - acc: 0.139 - 7s 707us/sample - loss: 4.3545 - acc: 0.1392\n",
      "Epoch 33/100\n",
      "10053/10053 [==============================] - 7s 700us/sample - loss: 4.2697 - acc: 0.1460\n",
      "Epoch 34/100\n",
      "10053/10053 [==============================] - 7s 709us/sample - loss: 4.2086 - acc: 0.1526\n",
      "Epoch 35/100\n",
      "10053/10053 [==============================] - 7s 692us/sample - loss: 4.1425 - acc: 0.1582\n",
      "Epoch 36/100\n",
      "10053/10053 [==============================] - 7s 704us/sample - loss: 4.0771 - acc: 0.1670\n",
      "Epoch 37/100\n",
      "10053/10053 [==============================] - 7s 700us/sample - loss: 4.0038 - acc: 0.1718\n",
      "Epoch 38/100\n",
      "10053/10053 [==============================] - 7s 691us/sample - loss: 3.9420 - acc: 0.1809\n",
      "Epoch 39/100\n",
      "10053/10053 [==============================] - 7s 691us/sample - loss: 3.8763 - acc: 0.1935\n",
      "Epoch 40/100\n",
      "10053/10053 [==============================] - 7s 697us/sample - loss: 3.8020 - acc: 0.2042\n",
      "Epoch 41/100\n",
      "10053/10053 [==============================] - 7s 703us/sample - loss: 3.7509 - acc: 0.2117s - loss: 3.7473 - a\n",
      "Epoch 42/100\n",
      "10053/10053 [==============================] - 7s 700us/sample - loss: 3.6896 - acc: 0.2233\n",
      "Epoch 43/100\n",
      "10053/10053 [==============================] - 7s 705us/sample - loss: 3.6362 - acc: 0.2327\n",
      "Epoch 44/100\n",
      "10053/10053 [==============================] - 7s 710us/sample - loss: 3.5713 - acc: 0.2419\n",
      "Epoch 45/100\n",
      "10053/10053 [==============================] - 7s 703us/sample - loss: 3.5145 - acc: 0.2521\n",
      "Epoch 46/100\n",
      "10053/10053 [==============================] - 7s 695us/sample - loss: 3.4530 - acc: 0.2656\n",
      "Epoch 47/100\n",
      "10053/10053 [==============================] - 7s 697us/sample - loss: 3.4079 - acc: 0.2793\n",
      "Epoch 48/100\n",
      "10053/10053 [==============================] - 7s 703us/sample - loss: 3.3509 - acc: 0.2872\n",
      "Epoch 49/100\n",
      "10053/10053 [==============================] - 7s 701us/sample - loss: 3.2986 - acc: 0.3005\n",
      "Epoch 50/100\n",
      "10053/10053 [==============================] - 7s 702us/sample - loss: 3.2369 - acc: 0.3101s - loss: 3.\n",
      "Epoch 51/100\n",
      "10053/10053 [==============================] - 7s 701us/sample - loss: 3.1988 - acc: 0.3186\n",
      "Epoch 52/100\n",
      "10053/10053 [==============================] - 7s 713us/sample - loss: 3.1569 - acc: 0.3281\n",
      "Epoch 53/100\n",
      "10053/10053 [==============================] - 7s 701us/sample - loss: 3.1033 - acc: 0.3452\n",
      "Epoch 54/100\n",
      "10053/10053 [==============================] - 7s 707us/sample - loss: 3.0498 - acc: 0.3521\n",
      "Epoch 55/100\n",
      "10053/10053 [==============================] - 7s 709us/sample - loss: 3.0105 - acc: 0.3637\n",
      "Epoch 56/100\n",
      "10053/10053 [==============================] - 7s 708us/sample - loss: 2.9539 - acc: 0.3766\n",
      "Epoch 57/100\n",
      "10053/10053 [==============================] - 7s 713us/sample - loss: 2.9133 - acc: 0.3895\n",
      "Epoch 58/100\n",
      "10053/10053 [==============================] - 7s 713us/sample - loss: 2.8640 - acc: 0.3922\n",
      "Epoch 59/100\n",
      "10053/10053 [==============================] - 7s 713us/sample - loss: 2.8156 - acc: 0.4114\n",
      "Epoch 60/100\n",
      "10053/10053 [==============================] - 7s 701us/sample - loss: 2.7837 - acc: 0.4131\n",
      "Epoch 61/100\n",
      "10053/10053 [==============================] - 7s 700us/sample - loss: 2.7532 - acc: 0.4245\n",
      "Epoch 62/100\n",
      "10053/10053 [==============================] - 7s 724us/sample - loss: 2.7040 - acc: 0.4420\n",
      "Epoch 63/100\n",
      "10053/10053 [==============================] - 8s 763us/sample - loss: 2.6625 - acc: 0.4473\n",
      "Epoch 64/100\n",
      "10053/10053 [==============================] - 7s 733us/sample - loss: 2.6205 - acc: 0.4586\n",
      "Epoch 65/100\n",
      "10053/10053 [==============================] - 7s 681us/sample - loss: 2.5835 - acc: 0.4659\n",
      "Epoch 66/100\n",
      "10053/10053 [==============================] - 7s 677us/sample - loss: 2.5417 - acc: 0.4767\n",
      "Epoch 67/100\n",
      "10053/10053 [==============================] - 7s 678us/sample - loss: 2.5120 - acc: 0.4804\n",
      "Epoch 68/100\n",
      "10053/10053 [==============================] - 7s 690us/sample - loss: 2.4782 - acc: 0.4919\n",
      "Epoch 69/100\n",
      "10053/10053 [==============================] - 7s 743us/sample - loss: 2.4399 - acc: 0.5030s - loss: \n",
      "Epoch 70/100\n",
      "10053/10053 [==============================] - 7s 670us/sample - loss: 2.4045 - acc: 0.5081\n",
      "Epoch 71/100\n",
      "10053/10053 [==============================] - 7s 666us/sample - loss: 2.3618 - acc: 0.5138\n",
      "Epoch 72/100\n",
      "10053/10053 [==============================] - 7s 666us/sample - loss: 2.3335 - acc: 0.5285\n",
      "Epoch 73/100\n",
      "10053/10053 [==============================] - 8s 762us/sample - loss: 2.3224 - acc: 0.5263\n",
      "Epoch 74/100\n"
     ]
    },
    {
     "name": "stdout",
     "output_type": "stream",
     "text": [
      "10053/10053 [==============================] - 8s 751us/sample - loss: 2.2853 - acc: 0.5355s - - ETA: 0s - loss: 2.2787 - acc:  - ETA: 0s - loss: 2.2842 - acc: 0.53\n",
      "Epoch 75/100\n",
      "10053/10053 [==============================] - 8s 770us/sample - loss: 2.2305 - acc: 0.5459\n",
      "Epoch 76/100\n",
      "10053/10053 [==============================] - 8s 755us/sample - loss: 2.2108 - acc: 0.5565s - loss: 2.1519  - ETA: 3s - l - ETA:\n",
      "Epoch 77/100\n",
      "10053/10053 [==============================] - 8s 750us/sample - loss: 2.1768 - acc: 0.5666s - los\n",
      "Epoch 78/100\n",
      "10053/10053 [==============================] - 8s 771us/sample - loss: 2.1528 - acc: 0.5740s - loss: 2.12 - ETA: 0s - loss:\n",
      "Epoch 79/100\n",
      "10053/10053 [==============================] - 7s 718us/sample - loss: 2.1238 - acc: 0.5782\n",
      "Epoch 80/100\n",
      "10053/10053 [==============================] - 7s 699us/sample - loss: 2.1074 - acc: 0.5841\n",
      "Epoch 81/100\n",
      "10053/10053 [==============================] - 7s 698us/sample - loss: 2.0805 - acc: 0.5885\n",
      "Epoch 82/100\n",
      "10053/10053 [==============================] - 7s 697us/sample - loss: 2.0395 - acc: 0.6025\n",
      "Epoch 83/100\n",
      "10053/10053 [==============================] - 7s 701us/sample - loss: 2.0189 - acc: 0.6057\n",
      "Epoch 84/100\n",
      "10053/10053 [==============================] - 7s 696us/sample - loss: 1.9834 - acc: 0.6152\n",
      "Epoch 85/100\n",
      "10053/10053 [==============================] - 7s 695us/sample - loss: 1.9668 - acc: 0.6161\n",
      "Epoch 86/100\n",
      "10053/10053 [==============================] - 7s 698us/sample - loss: 1.9454 - acc: 0.6238\n",
      "Epoch 87/100\n",
      "10053/10053 [==============================] - 7s 697us/sample - loss: 1.9286 - acc: 0.6273\n",
      "Epoch 88/100\n",
      "10053/10053 [==============================] - 7s 699us/sample - loss: 1.8879 - acc: 0.6379\n",
      "Epoch 89/100\n",
      "10053/10053 [==============================] - 7s 698us/sample - loss: 1.8627 - acc: 0.6445\n",
      "Epoch 90/100\n",
      "10053/10053 [==============================] - 7s 695us/sample - loss: 1.8401 - acc: 0.6475\n",
      "Epoch 91/100\n",
      "10053/10053 [==============================] - 7s 698us/sample - loss: 1.8352 - acc: 0.6495\n",
      "Epoch 92/100\n",
      "10053/10053 [==============================] - 7s 697us/sample - loss: 1.8025 - acc: 0.6576\n",
      "Epoch 93/100\n",
      "10053/10053 [==============================] - 7s 699us/sample - loss: 1.7806 - acc: 0.6614\n",
      "Epoch 94/100\n",
      "10053/10053 [==============================] - 7s 700us/sample - loss: 1.7632 - acc: 0.6626\n",
      "Epoch 95/100\n",
      "10053/10053 [==============================] - 7s 697us/sample - loss: 1.7408 - acc: 0.6688\n",
      "Epoch 96/100\n",
      "10053/10053 [==============================] - 7s 695us/sample - loss: 1.7220 - acc: 0.6768\n",
      "Epoch 97/100\n",
      "10053/10053 [==============================] - 7s 697us/sample - loss: 1.6859 - acc: 0.6885\n",
      "Epoch 98/100\n",
      "10053/10053 [==============================] - 7s 693us/sample - loss: 1.6833 - acc: 0.6877\n",
      "Epoch 99/100\n",
      "10053/10053 [==============================] - 7s 698us/sample - loss: 1.6649 - acc: 0.6938s - loss: 1.6636 - acc: 0.694\n",
      "Epoch 100/100\n",
      "10053/10053 [==============================] - 7s 702us/sample - loss: 1.6584 - acc: 0.6910\n"
     ]
    }
   ],
   "source": [
    " history = model.fit(predictors, label, epochs=100, verbose=1)"
   ]
  },
  {
   "cell_type": "code",
   "execution_count": 15,
   "metadata": {},
   "outputs": [
    {
     "data": {
      "image/png": "[encoded data removed]",
      "text/plain": [
       "<Figure size 432x288 with 1 Axes>"
      ]
     },
     "metadata": {
      "needs_background": "light"
     },
     "output_type": "display_data"
    },
    {
     "data": {
      "image/png": "[encoded data removed]",
      "text/plain": [
       "<Figure size 432x288 with 1 Axes>"
      ]
     },
     "metadata": {
      "needs_background": "light"
     },
     "output_type": "display_data"
    }
   ],
   "source": [
    "import matplotlib.pyplot as plt\n",
    "acc = history.history['acc']\n",
    "loss = history.history['loss']\n",
    "\n",
    "epochs = range(len(acc))\n",
    "\n",
    "plt.plot(epochs, acc, 'b', label='Training accuracy')\n",
    "plt.title('Training accuracy')\n",
    "\n",
    "plt.figure()\n",
    "\n",
    "plt.plot(epochs, loss, 'b', label='Training Loss')\n",
    "plt.title('Training loss')\n",
    "plt.legend()\n",
    "\n",
    "plt.show()"
   ]
  },
  {
   "cell_type": "code",
   "execution_count": 17,
   "metadata": {},
   "outputs": [
    {
     "name": "stdout",
     "output_type": "stream",
     "text": [
      "Help me Obi Wan Kenobi, you're my only hope that else when ten grief sheds rare find kind another place die of thee die thee thee make die die see hence bright green decay curious rage strong decay lie hid can thence see forth grossly afloat play to boast now not say you done their green be brought afloat mute away life go life life thee life me me find contains tend born made away young days nor weeds date mother mother mother mother mother other stelled brought stelled appear stelled mother stelled mother stelled mother mother mother stelled brought mother brought brought brought brought brought brought brought brought brought brought stelled mother stelled mother mother mother mother mother mother scope beside their cross light beside their cross light grew stelled mother date scope beside their weeds light beside their cross light grew stelled mother history kind kind kind kind fulness every time die time die go life life hours hours hours one remain broken crime tend remain scope doth land so find room date scope beside me die brought die now dead find away rolling glory forth write to thee their deeds to rose part hours make me find delight grow praise still cast thee lie made releasing chary remain go well die hours you go of life life well dead praise exceed brought afloat afloat find room forth while thee well old store make store away thence see forth forth glory of me me me life thee die praise while write other thee alone say contains borne beside me grew mother afloat afloat brought now forth place glory in their heart part in gentle way brow scope can bestow now sweetness still prove show too fuel still define decay remain go in me long book away happy date mother die hours write life die praise praise praise bright eyes again evident forth date die still fulness rare moan rare pride brought date mother date scope beside life ill weeds ill pride doth cross die thence parts me desire his parts from thee all my pupil pen doth cross set tell what thee rolling moan date die interest die me hence less mute prove fulness date date of stelled go still young ill way pride happy prove away days kind parts eternal glory other beauty's other die find brought bar new glory still write of me thee thee thee great decay days hour new prove away away false store you find brought bar history date date weeds of of new date scope beside me fulness rare fled brought brought crime brought exceed glory made young pride mother date mother stelled forth prime same cross hours of fulness rare date stelled date weeds while other other them go time in fulness remain lie hid doth theirs go of me life life write in thee say die die some cross remain grow truth doth sing brought toiled impute date crime convertest exceed rolling die find brought date mother mother mother stelled mother stelled mother mother mother mother mother mother mother\n"
     ]
    }
   ],
   "source": [
    "seed_text = \"Help me Obi Wan Kenobi, you're my only hope\"\n",
    "next_words = 500\n",
    "  \n",
    "for _ in range(next_words):\n",
    "    token_list = tokenizer.texts_to_sequences([seed_text])[0]\n",
    "    token_list = pad_sequences([token_list], maxlen=max_sequence_len-1, padding='pre')\n",
    "    predicted = model.predict_classes(token_list, verbose=0)\n",
    "    output_word = \"\"\n",
    "    for word, index in tokenizer.word_index.items():\n",
    "        if index == predicted:\n",
    "            output_word = word\n",
    "            break\n",
    "    seed_text += \" \" + output_word\n",
    "print(seed_text)"
   ]
  },
  {
   "cell_type": "code",
   "execution_count": null,
   "metadata": {},
   "outputs": [],
   "source": []
  }
 ],
 "metadata": {
  "kernelspec": {
   "display_name": "gputest",
   "language": "python",
   "name": "gputest"
  },
  "language_info": {
   "codemirror_mode": {
    "name": "ipython",
    "version": 3
   },
   "file_extension": ".py",
   "mimetype": "text/x-python",
   "name": "python",
   "nbconvert_exporter": "python",
   "pygments_lexer": "ipython3",
   "version": "3.6.10"
  }
 },
 "nbformat": 4,
 "nbformat_minor": 4
}
